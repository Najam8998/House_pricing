{
 "cells": [
  {
   "cell_type": "code",
   "execution_count": null,
   "id": "4c905101-2907-4c23-a93c-a300f1986a78",
   "metadata": {},
   "outputs": [],
   "source": []
  }
 ],
 "metadata": {
  "kernelspec": {
   "display_name": "",
   "name": ""
  },
  "language_info": {
   "name": ""
  }
 },
 "nbformat": 4,
 "nbformat_minor": 5
}
